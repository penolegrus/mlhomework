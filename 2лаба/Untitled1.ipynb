{
 "cells": [
  {
   "cell_type": "code",
   "execution_count": 1,
   "metadata": {},
   "outputs": [],
   "source": [
    "# https://github.com/penolegrus\n",
    "import math\n",
    "import numpy as np\n",
    "import pandas as pd \n",
    "from pandas import DataFrame\n",
    "from random import randint\n",
    "from sklearn.metrics import classification_report\n",
    "import matplotlib.pyplot as plt\n",
    "from sklearn import metrics"
   ]
  },
  {
   "cell_type": "code",
   "execution_count": 43,
   "metadata": {},
   "outputs": [
    {
     "data": {
      "text/html": [
       "<div>\n",
       "<style scoped>\n",
       "    .dataframe tbody tr th:only-of-type {\n",
       "        vertical-align: middle;\n",
       "    }\n",
       "\n",
       "    .dataframe tbody tr th {\n",
       "        vertical-align: top;\n",
       "    }\n",
       "\n",
       "    .dataframe thead th {\n",
       "        text-align: right;\n",
       "    }\n",
       "</style>\n",
       "<table border=\"1\" class=\"dataframe\">\n",
       "  <thead>\n",
       "    <tr style=\"text-align: right;\">\n",
       "      <th></th>\n",
       "      <th>Unnamed: 0</th>\n",
       "      <th>AveragePrice</th>\n",
       "      <th>Total Volume</th>\n",
       "      <th>4046</th>\n",
       "      <th>4225</th>\n",
       "      <th>4770</th>\n",
       "      <th>Total Bags</th>\n",
       "      <th>Small Bags</th>\n",
       "      <th>Large Bags</th>\n",
       "      <th>XLarge Bags</th>\n",
       "      <th>year</th>\n",
       "    </tr>\n",
       "  </thead>\n",
       "  <tbody>\n",
       "    <tr>\n",
       "      <td>0</td>\n",
       "      <td>0</td>\n",
       "      <td>1.33</td>\n",
       "      <td>64236.62</td>\n",
       "      <td>1036.74</td>\n",
       "      <td>54454.85</td>\n",
       "      <td>48.16</td>\n",
       "      <td>8696.87</td>\n",
       "      <td>8603.62</td>\n",
       "      <td>93.25</td>\n",
       "      <td>0.0</td>\n",
       "      <td>2015</td>\n",
       "    </tr>\n",
       "    <tr>\n",
       "      <td>1</td>\n",
       "      <td>1</td>\n",
       "      <td>1.35</td>\n",
       "      <td>54876.98</td>\n",
       "      <td>674.28</td>\n",
       "      <td>44638.81</td>\n",
       "      <td>58.33</td>\n",
       "      <td>9505.56</td>\n",
       "      <td>9408.07</td>\n",
       "      <td>97.49</td>\n",
       "      <td>0.0</td>\n",
       "      <td>2015</td>\n",
       "    </tr>\n",
       "    <tr>\n",
       "      <td>2</td>\n",
       "      <td>2</td>\n",
       "      <td>0.93</td>\n",
       "      <td>118220.22</td>\n",
       "      <td>794.7</td>\n",
       "      <td>109149.67</td>\n",
       "      <td>130.5</td>\n",
       "      <td>8145.35</td>\n",
       "      <td>8042.21</td>\n",
       "      <td>103.14</td>\n",
       "      <td>0.0</td>\n",
       "      <td>2015</td>\n",
       "    </tr>\n",
       "    <tr>\n",
       "      <td>3</td>\n",
       "      <td>3</td>\n",
       "      <td>1.08</td>\n",
       "      <td>78992.15</td>\n",
       "      <td>1132.0</td>\n",
       "      <td>71976.41</td>\n",
       "      <td>72.58</td>\n",
       "      <td>5811.16</td>\n",
       "      <td>5677.4</td>\n",
       "      <td>133.76</td>\n",
       "      <td>0.0</td>\n",
       "      <td>2015</td>\n",
       "    </tr>\n",
       "    <tr>\n",
       "      <td>4</td>\n",
       "      <td>4</td>\n",
       "      <td>1.28</td>\n",
       "      <td>51039.6</td>\n",
       "      <td>941.48</td>\n",
       "      <td>43838.39</td>\n",
       "      <td>75.78</td>\n",
       "      <td>6183.95</td>\n",
       "      <td>5986.26</td>\n",
       "      <td>197.69</td>\n",
       "      <td>0.0</td>\n",
       "      <td>2015</td>\n",
       "    </tr>\n",
       "    <tr>\n",
       "      <td>5</td>\n",
       "      <td>5</td>\n",
       "      <td>1.26</td>\n",
       "      <td>55979.78</td>\n",
       "      <td>1184.27</td>\n",
       "      <td>48067.99</td>\n",
       "      <td>43.61</td>\n",
       "      <td>6683.91</td>\n",
       "      <td>6556.47</td>\n",
       "      <td>127.44</td>\n",
       "      <td>0.0</td>\n",
       "      <td>2015</td>\n",
       "    </tr>\n",
       "    <tr>\n",
       "      <td>6</td>\n",
       "      <td>6</td>\n",
       "      <td>0.99</td>\n",
       "      <td>83453.76</td>\n",
       "      <td>1368.92</td>\n",
       "      <td>73672.72</td>\n",
       "      <td>93.26</td>\n",
       "      <td>8318.86</td>\n",
       "      <td>8196.81</td>\n",
       "      <td>122.05</td>\n",
       "      <td>0.0</td>\n",
       "      <td>2015</td>\n",
       "    </tr>\n",
       "    <tr>\n",
       "      <td>7</td>\n",
       "      <td>7</td>\n",
       "      <td>0.98</td>\n",
       "      <td>109428.33</td>\n",
       "      <td>703.75</td>\n",
       "      <td>101815.36</td>\n",
       "      <td>80.0</td>\n",
       "      <td>6829.22</td>\n",
       "      <td>6266.85</td>\n",
       "      <td>562.37</td>\n",
       "      <td>0.0</td>\n",
       "      <td>2015</td>\n",
       "    </tr>\n",
       "    <tr>\n",
       "      <td>8</td>\n",
       "      <td>8</td>\n",
       "      <td>1.02</td>\n",
       "      <td>99811.42</td>\n",
       "      <td>1022.15</td>\n",
       "      <td>87315.57</td>\n",
       "      <td>85.34</td>\n",
       "      <td>11388.36</td>\n",
       "      <td>11104.53</td>\n",
       "      <td>283.83</td>\n",
       "      <td>0.0</td>\n",
       "      <td>2015</td>\n",
       "    </tr>\n",
       "    <tr>\n",
       "      <td>9</td>\n",
       "      <td>9</td>\n",
       "      <td>1.07</td>\n",
       "      <td>74338.76</td>\n",
       "      <td>842.4</td>\n",
       "      <td>64757.44</td>\n",
       "      <td>113.0</td>\n",
       "      <td>8625.92</td>\n",
       "      <td>8061.47</td>\n",
       "      <td>564.45</td>\n",
       "      <td>0.0</td>\n",
       "      <td>2015</td>\n",
       "    </tr>\n",
       "  </tbody>\n",
       "</table>\n",
       "</div>"
      ],
      "text/plain": [
       "   Unnamed: 0 AveragePrice Total Volume     4046       4225   4770 Total Bags  \\\n",
       "0           0         1.33     64236.62  1036.74   54454.85  48.16    8696.87   \n",
       "1           1         1.35     54876.98   674.28   44638.81  58.33    9505.56   \n",
       "2           2         0.93    118220.22    794.7  109149.67  130.5    8145.35   \n",
       "3           3         1.08     78992.15   1132.0   71976.41  72.58    5811.16   \n",
       "4           4         1.28      51039.6   941.48   43838.39  75.78    6183.95   \n",
       "5           5         1.26     55979.78  1184.27   48067.99  43.61    6683.91   \n",
       "6           6         0.99     83453.76  1368.92   73672.72  93.26    8318.86   \n",
       "7           7         0.98    109428.33   703.75  101815.36   80.0    6829.22   \n",
       "8           8         1.02     99811.42  1022.15   87315.57  85.34   11388.36   \n",
       "9           9         1.07     74338.76    842.4   64757.44  113.0    8625.92   \n",
       "\n",
       "  Small Bags Large Bags XLarge Bags  year  \n",
       "0    8603.62      93.25         0.0  2015  \n",
       "1    9408.07      97.49         0.0  2015  \n",
       "2    8042.21     103.14         0.0  2015  \n",
       "3     5677.4     133.76         0.0  2015  \n",
       "4    5986.26     197.69         0.0  2015  \n",
       "5    6556.47     127.44         0.0  2015  \n",
       "6    8196.81     122.05         0.0  2015  \n",
       "7    6266.85     562.37         0.0  2015  \n",
       "8   11104.53     283.83         0.0  2015  \n",
       "9    8061.47     564.45         0.0  2015  "
      ]
     },
     "execution_count": 43,
     "metadata": {},
     "output_type": "execute_result"
    }
   ],
   "source": [
    "data=pd.read_csv(\"./avocado.csv\",sep=',', decimal=\",\") #данные авакадо\n",
    "del data['Date']\n",
    "del data['type']\n",
    "del data['region']\n",
    "data.head(10)"
   ]
  },
  {
   "cell_type": "code",
   "execution_count": 44,
   "metadata": {},
   "outputs": [],
   "source": [
    "def train_test_split(obj, train_percent, Y_column): # Поддерживает только один игрек\n",
    "    msk = np.random.rand(len(obj)) < train_percent \n",
    "    # Делим на тестовую и обучающую\n",
    "    train = obj[msk]\n",
    "    test = obj[~msk]\n",
    "    # Отделяем иксы игреки\n",
    "    Xtrn = train.drop(columns=[Y_column])\n",
    "    Ytrn = train[Y_column]\n",
    "    Xtest = test.drop(columns=[Y_column])\n",
    "    Ytest = test[Y_column] \n",
    "    return Xtrn, Ytrn, Xtest, Ytest"
   ]
  },
  {
   "cell_type": "code",
   "execution_count": 83,
   "metadata": {},
   "outputs": [],
   "source": [
    "# Непосредственно лабортаторка\n",
    "def predictRND(obj):\n",
    "    for index, item in obj.iterrows():\n",
    "        obj.loc[index,\"4225\"] = randint(0,1)\n",
    "    return obj\n",
    "\n",
    "data = predictRND(data)\n",
    "Xtrn, Ytrn, Xtest, Ytest = train_test_split(data, 0.8, '4225')"
   ]
  },
  {
   "cell_type": "code",
   "execution_count": 77,
   "metadata": {},
   "outputs": [],
   "source": [
    "# Модельки\n",
    "from sklearn.tree import DecisionTreeClassifier\n",
    "from sklearn.ensemble import RandomForestClassifier\n",
    "from sklearn.ensemble import GradientBoostingClassifier\n",
    "modelTREE = DecisionTreeClassifier(criterion = 'entropy') #дерево решений\n",
    "modelFOREST = RandomForestClassifier(n_estimators=100) #случайны лес\n",
    "modelGRADIENT =  GradientBoostingClassifier() #градиентный бустинг"
   ]
  },
  {
   "cell_type": "code",
   "execution_count": 78,
   "metadata": {},
   "outputs": [
    {
     "data": {
      "text/plain": [
       "'              precision    recall  f1-score   support\\n\\n           0       0.51      0.49      0.50      1892\\n           1       0.50      0.52      0.51      1859\\n\\n    accuracy                           0.50      3751\\n   macro avg       0.50      0.50      0.50      3751\\nweighted avg       0.50      0.50      0.50      3751\\n'"
      ]
     },
     "execution_count": 78,
     "metadata": {},
     "output_type": "execute_result"
    }
   ],
   "source": [
    "#Обучение модели\n",
    "modelTREE.fit(Xtrn,Ytrn)\n",
    "Ypred = modelTREE.predict(Xtest)\n",
    "#коэф детерминации\n",
    "classification_report(Ytest, Ypred)"
   ]
  },
  {
   "cell_type": "code",
   "execution_count": 79,
   "metadata": {},
   "outputs": [
    {
     "data": {
      "image/png": "[encoded data removed]",
      "text/plain": [
       "<Figure size 432x288 with 1 Axes>"
      ]
     },
     "metadata": {
      "needs_background": "light"
     },
     "output_type": "display_data"
    }
   ],
   "source": [
    "#roc кривые\n",
    "fpr, tpr, threshold = metrics.roc_curve(Ytest, Ypred)\n",
    "roc_auc = metrics.auc(fpr, tpr)\n",
    "plt.plot(fpr, tpr, 'b', label ='дерево решений'+ 'AUC = %0.2f' % roc_auc)\n",
    "plt.legend(loc = 'lower right')\n",
    "plt.plot([0, 1], [0, 1],'r--')\n",
    "plt.xlim([0, 1])\n",
    "plt.ylim([0, 1])\n",
    "plt.ylabel('True Positive Rate')\n",
    "plt.xlabel('False Positive Rate')\n",
    "plt.show()"
   ]
  },
  {
   "cell_type": "code",
   "execution_count": 85,
   "metadata": {},
   "outputs": [
    {
     "data": {
      "image/png": "[encoded data removed]",
      "text/plain": [
       "<Figure size 432x288 with 1 Axes>"
      ]
     },
     "metadata": {
      "needs_background": "light"
     },
     "output_type": "display_data"
    }
   ],
   "source": [
    "#случайный лес\n",
    "#Обучение модели\n",
    "modelFOREST.fit(Xtrn,Ytrn)\n",
    "Ypred = modelFOREST.predict(Xtest)\n",
    "#коэф детерминации\n",
    "classification_report(Ytest, Ypred)\n",
    "#roc кривые\n",
    "fpr, tpr, threshold = metrics.roc_curve(Ytest, Ypred)\n",
    "roc_auc = metrics.auc(fpr, tpr)\n",
    "plt.plot(fpr, tpr, 'b', label ='случайный лес'+ 'AUC = %0.2f' % roc_auc)\n",
    "plt.legend(loc = 'lower right')\n",
    "plt.plot([0, 1], [0, 1],'r--')\n",
    "plt.xlim([0, 1])\n",
    "plt.ylim([0, 1])\n",
    "plt.ylabel('True Positive Rate')\n",
    "plt.xlabel('False Positive Rate')\n",
    "plt.show()"
   ]
  },
  {
   "cell_type": "code",
   "execution_count": 86,
   "metadata": {},
   "outputs": [
    {
     "data": {
      "image/png": "[encoded data removed]",
      "text/plain": [
       "<Figure size 432x288 with 1 Axes>"
      ]
     },
     "metadata": {
      "needs_background": "light"
     },
     "output_type": "display_data"
    }
   ],
   "source": [
    "#градиентный бустинг\n",
    "#Обучение модели\n",
    "modelGRADIENT.fit(Xtrn,Ytrn)\n",
    "Ypred = modelGRADIENT.predict(Xtest)\n",
    "#коэф детерминации\n",
    "classification_report(Ytest, Ypred)\n",
    "#roc кривые\n",
    "fpr, tpr, threshold = metrics.roc_curve(Ytest, Ypred)\n",
    "roc_auc = metrics.auc(fpr, tpr)\n",
    "plt.plot(fpr, tpr, 'b', label ='градиент'+ 'AUC = %0.2f' % roc_auc)\n",
    "plt.legend(loc = 'lower right')\n",
    "plt.plot([0, 1], [0, 1],'r--')\n",
    "plt.xlim([0, 1])\n",
    "plt.ylim([0, 1])\n",
    "plt.ylabel('True Positive Rate')\n",
    "plt.xlabel('False Positive Rate')\n",
    "plt.show()"
   ]
  },
  {
   "cell_type": "code",
   "execution_count": null,
   "metadata": {},
   "outputs": [],
   "source": [
    "# я пытался, поставьте 4 за песика\n",
    "#░▄▀▄▀▀▀▀▄▀▄░░░░░░░░░\n",
    "#░█░░░░░░░░▀▄░░░░░░▄░\n",
    "#█░░▀░░▀░░░░░▀▄▄░░█░█\n",
    "#█░▄░█▀░▄░░░░░░░▀▀░░█\n",
    "#█░░▀▀▀▀░░░░░░░░░░░░█\n",
    "#█░░░░░░░░░░░░░░░░░░█\n",
    "#█░░░░░░░░░░░░░░░░░░█\n",
    "#░█░░▄▄░░▄▄▄▄░░▄▄░░█░\n",
    "#░█░▄▀█░▄▀░░█░▄▀█░▄▀░\n",
    "#░░▀░░░▀░░░░░▀░░░▀░░░"
   ]
  }
 ],
 "metadata": {
  "kernelspec": {
   "display_name": "Python 3",
   "language": "python",
   "name": "python3"
  },
  "language_info": {
   "codemirror_mode": {
    "name": "ipython",
    "version": 3
   },
   "file_extension": ".py",
   "mimetype": "text/x-python",
   "name": "python",
   "nbconvert_exporter": "python",
   "pygments_lexer": "ipython3",
   "version": "3.7.4"
  }
 },
 "nbformat": 4,
 "nbformat_minor": 2
}
