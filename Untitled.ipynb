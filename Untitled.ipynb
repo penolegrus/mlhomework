{
 "cells": [
  {
   "cell_type": "markdown",
   "metadata": {},
   "source": [
    "# Лабароторная работа 1 | Машинное обучение"
   ]
  },
  {
   "cell_type": "code",
   "execution_count": 1,
   "metadata": {},
   "outputs": [],
   "source": [
    "# Ссылка на гит-репозиторий: https://github.com/penolegrus/mlhomework\n",
    "# импорт библиотек\n",
    "import pandas as pd\n",
    "import matplotlib.pyplot as plt\n",
    "from sklearn.linear_model import LogisticRegression\n",
    "from sklearn.metrics import confusion_matrix, classification_report\n",
    "from sklearn.model_selection import train_test_split\n",
    "from datetime import datetime\n",
    "import math"
   ]
  },
  {
   "cell_type": "code",
   "execution_count": 9,
   "metadata": {},
   "outputs": [
    {
     "name": "stdout",
     "output_type": "stream",
     "text": [
      "<class 'pandas.core.frame.DataFrame'>\n",
      "RangeIndex: 882222 entries, 0 to 882221\n",
      "Data columns (total 9 columns):\n",
      "CustomerID              882222 non-null int64\n",
      "Restaurant              882222 non-null int64\n",
      "RKDate                  882222 non-null datetime64[ns]\n",
      "RegionName              882222 non-null object\n",
      "BrandsNames             882222 non-null object\n",
      "DishCategoryName        881608 non-null object\n",
      "Quantity                882222 non-null int64\n",
      "SummBasic               882222 non-null float64\n",
      "SummAfterPointsUsage    882222 non-null float64\n",
      "dtypes: datetime64[ns](1), float64(2), int64(3), object(3)\n",
      "memory usage: 60.6+ MB\n"
     ]
    }
   ],
   "source": [
    "# фиксируем дату на которую считаются характеристики клиентов\n",
    "imported_data = pd.read_csv('casc-resto.csv', sep=';', parse_dates = ['RKDate'], decimal=',')\n",
    "fixed_date = datetime(2017, 7, 1)\n",
    "fixed_date2 = datetime(2017, 12, 31)\n",
    "imported_data.info()"
   ]
  },
  {
   "cell_type": "code",
   "execution_count": 10,
   "metadata": {},
   "outputs": [
    {
     "name": "stdout",
     "output_type": "stream",
     "text": [
      "<class 'pandas.core.frame.DataFrame'>\n",
      "Int64Index: 881608 entries, 0 to 882221\n",
      "Data columns (total 9 columns):\n",
      "CustomerID              881608 non-null int64\n",
      "Restaurant              881608 non-null int64\n",
      "RKDate                  881608 non-null datetime64[ns]\n",
      "RegionName              881608 non-null object\n",
      "BrandsNames             881608 non-null object\n",
      "DishCategoryName        881608 non-null object\n",
      "Quantity                881608 non-null int64\n",
      "SummBasic               881608 non-null float64\n",
      "SummAfterPointsUsage    881608 non-null float64\n",
      "dtypes: datetime64[ns](1), float64(2), int64(3), object(3)\n",
      "memory usage: 67.3+ MB\n"
     ]
    }
   ],
   "source": [
    "imda = imported_data.dropna()\n",
    "# изменить некоторые названия блюд\n",
    "imda.loc[:, 'DishCategoryName'] = imda['DishCategoryName'].replace(['АЛКОГОЛЬ', 'КОМБО'], ['ALCOHOL', 'COMBO'])\n",
    "imda.loc[:, 'DishCategoryName'] = imda['DishCategoryName'].str.strip()\n",
    "\n",
    "# изменить отрицательные значения\n",
    "imda.loc[:, 'Quantity'] = imda['Quantity'].apply(lambda x: abs(x))\n",
    "imda.loc[:, 'SummBasic'] = imda['SummBasic'].apply(lambda x: abs(x))\n",
    "imda.loc[:, 'SummAfterPointsUsage'] = imda['SummAfterPointsUsage'].apply(lambda x: abs(x))\n",
    "imda.info()"
   ]
  },
  {
   "cell_type": "code",
   "execution_count": 14,
   "metadata": {},
   "outputs": [],
   "source": [
    "# функция которая вычисляет параметры\n",
    "def fun1(df):\n",
    "    # Проверка визите в период между 2017-07-01 и 2017-12-31\n",
    "    res = 0\n",
    "    for date in df['RKDate']:\n",
    "        if date >= fixed_date and date <= fixed_date2:\n",
    "            res = 1\n",
    "            break\n",
    "    df['Target'] = res\n",
    "    # Даты когда посещали клиенты до фикс. даты\n",
    "    poseshenia = df[df['RKDate'] < fixed_date].RKDate\n",
    "    if poseshenia.size == 0:\n",
    "        df['Recency'] = 0\n",
    "        df['Frequency'] = 0\n",
    "        df['MonetaryValue'] = 0\n",
    "        df['OrderSize'] = 0\n",
    "    else:\n",
    "        # кол-во дней до последнего визита клиента перед датой 2017-07-01\n",
    "        df['Recency'] = (fixed_date - poseshenia.max()).days\n",
    "        # среднее число походов в ресторан в 2017-07-01\n",
    "        df['Frequency'] = poseshenia.size / math.ceil((fixed_date - poseshenia.min()).days / 30)\n",
    "        # средний чек клиента  до 2017-07-01\n",
    "        df['MonetaryValue'] = df['SummAfterPointsUsage'].sum() / poseshenia.unique().size\n",
    "        # средний размер заказов клиента по всем покупкам до 2017-07-01\n",
    "        df['OrderSize'] = df['Quantity'].sum() / poseshenia.unique().size\n",
    "    return df\n",
    "\n",
    "# Вычислить указанные в задаче параметры\n",
    "done_data = imda.groupby('CustomerID').apply(fun1)\n",
    "done_data = done_data.reset_index()"
   ]
  },
  {
   "cell_type": "code",
   "execution_count": 15,
   "metadata": {},
   "outputs": [],
   "source": [
    "#перевести пол в число\n",
    "def sex2number(sex_val):\n",
    "    if sex_val == 'Male':\n",
    "        return 1\n",
    "    if sex_val == 'Female':\n",
    "        return 0\n",
    "    return 0.5"
   ]
  },
  {
   "cell_type": "code",
   "execution_count": 16,
   "metadata": {},
   "outputs": [
    {
     "name": "stdout",
     "output_type": "stream",
     "text": [
      "<class 'pandas.core.frame.DataFrame'>\n",
      "RangeIndex: 10000 entries, 0 to 9999\n",
      "Data columns (total 3 columns):\n",
      "CustomerId    10000 non-null int64\n",
      "Age           10000 non-null float64\n",
      "Sex           10000 non-null float64\n",
      "dtypes: float64(2), int64(1)\n",
      "memory usage: 234.5 KB\n"
     ]
    }
   ],
   "source": [
    "# прочитать данные из второго файла\n",
    "another_stats = pd.read_csv('CASC_Constant.csv', usecols = ['CustomerId','Age','Sex'])\n",
    "# заполнение пропусков в возрасте\n",
    "age_mean = another_stats['Age'].mean()\n",
    "another_stats['Age'] = another_stats['Age'].fillna(age_mean)\n",
    "# перевод пола в число\n",
    "another_stats['Sex'] = another_stats['Sex'].apply(sex2number)\n",
    "another_stats.info()"
   ]
  },
  {
   "cell_type": "code",
   "execution_count": 18,
   "metadata": {},
   "outputs": [
    {
     "name": "stdout",
     "output_type": "stream",
     "text": [
      "<class 'pandas.core.frame.DataFrame'>\n",
      "Int64Index: 881608 entries, 0 to 881607\n",
      "Data columns (total 18 columns):\n",
      "index                   881608 non-null int64\n",
      "CustomerID              881608 non-null int64\n",
      "Restaurant              881608 non-null int64\n",
      "RKDate                  881608 non-null datetime64[ns]\n",
      "RegionName              881608 non-null object\n",
      "BrandsNames             881608 non-null object\n",
      "DishCategoryName        881608 non-null object\n",
      "Quantity                881608 non-null int64\n",
      "SummBasic               881608 non-null float64\n",
      "SummAfterPointsUsage    881608 non-null float64\n",
      "Target                  881608 non-null int64\n",
      "Recency                 881608 non-null int64\n",
      "Frequency               881608 non-null float64\n",
      "MonetaryValue           881608 non-null float64\n",
      "OrderSize               881608 non-null float64\n",
      "CustomerId              881608 non-null int64\n",
      "Age                     881608 non-null float64\n",
      "Sex                     881608 non-null float64\n",
      "dtypes: datetime64[ns](1), float64(7), int64(7), object(3)\n",
      "memory usage: 127.8+ MB\n"
     ]
    }
   ],
   "source": [
    "# совместить данные\n",
    "mixed_info = pd.merge(done_data, another_stats, left_on=['CustomerID'], right_on=['CustomerId'])\n",
    "mixed_info.info()\n",
    "# подготовить данные к регрессии\n",
    "X = mixed_info[['Recency', 'Frequency', 'MonetaryValue', 'OrderSize', 'Age', 'Sex']].to_numpy()\n",
    "Y = mixed_info['Target'].to_numpy()"
   ]
  },
  {
   "cell_type": "code",
   "execution_count": 19,
   "metadata": {},
   "outputs": [
    {
     "name": "stderr",
     "output_type": "stream",
     "text": [
      "C:\\Users\\User\\Anaconda3\\lib\\site-packages\\sklearn\\linear_model\\logistic.py:432: FutureWarning: Default solver will be changed to 'lbfgs' in 0.22. Specify a solver to silence this warning.\n",
      "  FutureWarning)\n"
     ]
    },
    {
     "data": {
      "text/plain": [
       "LogisticRegression(C=1.0, class_weight=None, dual=False, fit_intercept=True,\n",
       "                   intercept_scaling=1, l1_ratio=None, max_iter=100,\n",
       "                   multi_class='warn', n_jobs=None, penalty='l2',\n",
       "                   random_state=None, solver='warn', tol=0.0001, verbose=0,\n",
       "                   warm_start=False)"
      ]
     },
     "execution_count": 19,
     "metadata": {},
     "output_type": "execute_result"
    }
   ],
   "source": [
    "# Создание и обучение логистической регрессии\n",
    "# Разбиение данных на обучающее и тестовое подмножества\n",
    "X_train, X_test, y_train, y_test = train_test_split(X, Y, test_size = 0.2, random_state=42)\n",
    "logistic_regression = LogisticRegression()\n",
    "logistic_regression.fit(X_train, y_train)"
   ]
  },
  {
   "cell_type": "code",
   "execution_count": 20,
   "metadata": {},
   "outputs": [
    {
     "name": "stdout",
     "output_type": "stream",
     "text": [
      "[[ 33306  25944]\n",
      " [  8338 108734]]\n",
      "              precision    recall  f1-score   support\n",
      "\n",
      "           0       0.80      0.56      0.66     59250\n",
      "           1       0.81      0.93      0.86    117072\n",
      "\n",
      "    accuracy                           0.81    176322\n",
      "   macro avg       0.80      0.75      0.76    176322\n",
      "weighted avg       0.80      0.81      0.80    176322\n",
      "\n"
     ]
    }
   ],
   "source": [
    "y_predicted = logistic_regression.predict(X_test)\n",
    "print(confusion_matrix(y_test, y_predicted))\n",
    "print(classification_report(y_test, y_predicted))"
   ]
  },
  {
   "cell_type": "code",
   "execution_count": null,
   "metadata": {},
   "outputs": [],
   "source": []
  }
 ],
 "metadata": {
  "kernelspec": {
   "display_name": "Python 3",
   "language": "python",
   "name": "python3"
  },
  "language_info": {
   "codemirror_mode": {
    "name": "ipython",
    "version": 3
   },
   "file_extension": ".py",
   "mimetype": "text/x-python",
   "name": "python",
   "nbconvert_exporter": "python",
   "pygments_lexer": "ipython3",
   "version": "3.7.4"
  }
 },
 "nbformat": 4,
 "nbformat_minor": 2
}
