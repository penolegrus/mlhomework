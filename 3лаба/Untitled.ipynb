{
 "cells": [
  {
   "cell_type": "code",
   "execution_count": 13,
   "metadata": {},
   "outputs": [],
   "source": [
    "# Pendrak Oleg Bi17-2 https://github.com/penolegrus/mlhomework/blob/master/3%D0%BB%D0%B0%D0%B1%D0%B0/Untitled.ipynb\n",
    "import numpy as np\n",
    "import pandas as pd \n",
    "import json # чтоб сделать из json Фрейм\n",
    "from pandas.io.json import json_normalize # чтоб нормализовать json файл\n",
    "from sklearn import preprocessing # импорт для проставки категорий \n",
    "import warnings\n",
    "warnings.simplefilter('ignore', FutureWarning)\n",
    "import seaborn as sns"
   ]
  },
  {
   "cell_type": "code",
   "execution_count": 4,
   "metadata": {},
   "outputs": [],
   "source": [
    "def cut_for_speed(obj): # 10 процентов строк для ускорения\n",
    "    msk = np.random.rand(len(obj)) < 0.1\n",
    "    new_obj = obj[msk]\n",
    "    return new_obj"
   ]
  },
  {
   "cell_type": "code",
   "execution_count": 5,
   "metadata": {},
   "outputs": [],
   "source": [
    "def json_convert(df, JSON_COLUMNS): # преобразование Json \n",
    "    for column in JSON_COLUMNS:\n",
    "        column_as_df = json_normalize(df[column])\n",
    "        column_as_df.columns = [f'{column}.{subcolumn}' for subcolumn in column_as_df.columns]\n",
    "        df = df.drop(column, axis=1).merge(column_as_df, right_index=True, left_index=True)\n",
    "    return df"
   ]
  },
  {
   "cell_type": "code",
   "execution_count": 7,
   "metadata": {},
   "outputs": [],
   "source": [
    "JSON_COLUMNS = ['device', 'geoNetwork', 'totals', 'trafficSource']\n",
    "data = pd.read_csv(\"train.csv\", sep = \",\",  dtype = {'fullVisitorId': 'str'},\n",
    "                   converters={column: json.loads for column in JSON_COLUMNS}, \n",
    "                   nrows = None)\n",
    "data = json_convert(data, JSON_COLUMNS) # конверт json\n",
    "data = cut_for_speed(data) # Отрезаем 10 процентов \n",
    "\n",
    "#  отчистка от мусора\n",
    "delete = data.ne('not available in demo dataset')\n",
    "data = data.loc[delete.any(1), delete.any()]\n"
   ]
  },
  {
   "cell_type": "code",
   "execution_count": 8,
   "metadata": {},
   "outputs": [],
   "source": [
    "def prepare_data(df):        \n",
    "    \n",
    "    \n",
    "    df = df.replace({'socialEngagementType': {'Engaged': True, 'Not Socially Engaged': False}})  # bools\n",
    "    \n",
    "    float_cols = ['totals.pageviews','totals.bounces','totals.transactionRevenue'] # Тут массивы на флот и цикл на флот и нан делаем нулями\n",
    "    for col in float_cols:\n",
    "        df[col].fillna(0, inplace=True)\n",
    "        df[col] = df[col].astype(float)\n",
    "    df['totals.transactionRevenue'] = np.log1p(df['totals.transactionRevenue'].values)  # Сразу считаем логарифм прибыли\n",
    "    \n",
    "    str_cols = ['device.browser','geoNetwork.subContinent','geoNetwork.region',\n",
    "                'geoNetwork.networkDomain','trafficSource.medium'] # тут массив на стринги и цикл с le le обучаем на уникальных значениях\n",
    "    for col in str_cols:\n",
    "        df = df.replace({col: {'not available in demo dataset': '(not set)'}}) # замена \"Не доступно в демосете\" на not set\n",
    "        le = preprocessing.LabelEncoder()\n",
    "        le.fit(df[col].unique())\n",
    "        df[col] = le.transform(list(df[col].values.astype('str')))\n",
    "        df[col] = df[col].astype(float)\n",
    "    \n",
    "    for columns in df.columns: # тут цикл где все что объект и инты сносим \n",
    "        if df[columns].dtype == 'object' or df[columns].dtype == 'int64':\n",
    "            df = df.drop([columns], axis = 1)\n",
    "    \n",
    "    return df"
   ]
  },
  {
   "cell_type": "code",
   "execution_count": 9,
   "metadata": {},
   "outputs": [],
   "source": [
    "data = prepare_data(data)"
   ]
  },
  {
   "cell_type": "code",
   "execution_count": 10,
   "metadata": {},
   "outputs": [],
   "source": [
    "# Модельки\n",
    "from sklearn.ensemble import GradientBoostingRegressor\n",
    "from sklearn.ensemble import RandomForestRegressor\n",
    "from sklearn.svm import SVR\n",
    "from sklearn.linear_model import LinearRegression\n",
    "from sklearn.model_selection import train_test_split\n",
    "from sklearn.model_selection import KFold\n",
    "from sklearn.model_selection import cross_val_score\n",
    "\n",
    "\n",
    "trg = data['totals.transactionRevenue']  # Отделяем от выборки значение зависимой переменной\n",
    "trn = data.drop(columns=['totals.transactionRevenue'], axis=1)\n",
    "Xtrn, Xtest, Ytrn, Ytest = train_test_split(trn, trg, test_size = 0.2) # Разбиваем выборку на тестовую и обучающую\n",
    "\n",
    "models = [GradientBoostingRegressor(), # Градиентный бустинг\n",
    "          RandomForestRegressor(), # Случайный лес\n",
    "          # SVR(kernel='linear'), # Эпсилон-опорная векторная регрессия.Долгая очень очень\n",
    "          LinearRegression() # Линейная регрессия\n",
    "\t     ]"
   ]
  },
  {
   "cell_type": "code",
   "execution_count": 11,
   "metadata": {},
   "outputs": [
    {
     "name": "stdout",
     "output_type": "stream",
     "text": [
      "Отработала GradientBoostingRegressor\n",
      "Отработала RandomForestRegressor\n",
      "Отработала LinearRegression\n"
     ]
    }
   ],
   "source": [
    "# создание коллекций\n",
    "Result = pd.DataFrame() \n",
    "tmp = pd.DataFrame() \n",
    "\n",
    "for model in models:\n",
    "# получаем имя модели\n",
    "   m = str(model)\n",
    "   model_name = m[:m.index('(')]  \n",
    "   # Кросс валидация\n",
    "   scores = np.array([])\n",
    "   for i in range(10):  # 10 разбиений\n",
    "       fold = KFold(n_splits=5, shuffle=True)\n",
    "       scores_on_this_split = cross_val_score(\n",
    "               estimator = model, X=Xtest, y=Ytest,\n",
    "               cv=fold, scoring='r2')\n",
    "       scores = np.append(scores, scores_on_this_split)\n",
    "   print('Отработала', model_name ) \n",
    "   tmp['Оценки качества'] = pd.Series(scores)\n",
    "   tmp['Модель'] = model_name\n",
    "   # записываем данные и итоговый DataFrame\n",
    "   Result = Result.append([tmp])"
   ]
  },
  {
   "cell_type": "code",
   "execution_count": 12,
   "metadata": {},
   "outputs": [
    {
     "data": {
      "text/plain": [
       "<matplotlib.axes._subplots.AxesSubplot at 0x262de637a88>"
      ]
     },
     "execution_count": 12,
     "metadata": {},
     "output_type": "execute_result"
    },
    {
     "data": {
      "image/png": "[encoded data removed]",
      "text/plain": [
       "<Figure size 432x288 with 1 Axes>"
      ]
     },
     "metadata": {
      "needs_background": "light"
     },
     "output_type": "display_data"
    }
   ],
   "source": [
    "# Ящик с усами   \n",
    "Result = Result.replace({'Модель': {'GradientBoostingRegressor': 'Бустинг', 'RandomForestRegressor': 'Лес', 'LinearRegression': 'Лин. Регрессия'}})  # Тут конвертим булики \n",
    "sns.boxplot(y = 'Оценки качества', x = 'Модель', data = Result) "
   ]
  },
  {
   "cell_type": "code",
   "execution_count": null,
   "metadata": {},
   "outputs": [],
   "source": []
  }
 ],
 "metadata": {
  "kernelspec": {
   "display_name": "Python 3",
   "language": "python",
   "name": "python3"
  },
  "language_info": {
   "codemirror_mode": {
    "name": "ipython",
    "version": 3
   },
   "file_extension": ".py",
   "mimetype": "text/x-python",
   "name": "python",
   "nbconvert_exporter": "python",
   "pygments_lexer": "ipython3",
   "version": "3.7.4"
  }
 },
 "nbformat": 4,
 "nbformat_minor": 2
}
